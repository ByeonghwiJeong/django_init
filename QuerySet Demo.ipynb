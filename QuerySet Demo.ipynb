{
 "cells": [
  {
   "cell_type": "code",
   "execution_count": 1,
   "id": "a58e2fac",
   "metadata": {},
   "outputs": [],
   "source": [
    "import os\n",
    "os.environ['DJANGO_SETTINGS_MODULE'] = 'askcompany.settings'\n",
    "os.environ['DJANGO_ALLOW_ASYNC_UNSAFE'] = 'true'\n",
    "\n",
    "import django\n",
    "django.setup()\n",
    "\n",
    "from instagram.models import Post"
   ]
  },
  {
   "cell_type": "code",
   "execution_count": null,
   "id": "b4297c9f",
   "metadata": {},
   "outputs": [],
   "source": []
  },
  {
   "cell_type": "code",
   "execution_count": 4,
   "id": "dc3e56a0",
   "metadata": {},
   "outputs": [
    {
     "name": "stdout",
     "output_type": "stream",
     "text": [
      "<class 'django.db.models.query.QuerySet'>\n",
      "SELECT \"instagram_post\".\"id\", \"instagram_post\".\"message\", \"instagram_post\".\"photo\", \"instagram_post\".\"is_public\", \"instagram_post\".\"created_at\", \"instagram_post\".\"updated_at\" FROM \"instagram_post\"\n"
     ]
    },
    {
     "data": {
      "text/plain": [
       "<QuerySet [<Post: 첫번째 메세지>, <Post: 두번째 메세지>, <Post: 세번째 메세지>]>"
      ]
     },
     "execution_count": 4,
     "metadata": {},
     "output_type": "execute_result"
    }
   ],
   "source": [
    "qs = Post.objects.all()\n",
    "print(type(qs))\n",
    "print(qs.query)\n",
    "qs"
   ]
  },
  {
   "cell_type": "code",
   "execution_count": 8,
   "id": "4d1f8a61",
   "metadata": {},
   "outputs": [
    {
     "name": "stdout",
     "output_type": "stream",
     "text": [
      "SELECT \"instagram_post\".\"id\", \"instagram_post\".\"message\", \"instagram_post\".\"photo\", \"instagram_post\".\"is_public\", \"instagram_post\".\"created_at\", \"instagram_post\".\"updated_at\" FROM \"instagram_post\" ORDER BY \"instagram_post\".\"id\" DESC LIMIT 2\n"
     ]
    },
    {
     "data": {
      "text/plain": [
       "<QuerySet [<Post: 세번째 메세지>, <Post: 두번째 메세지>]>"
      ]
     },
     "execution_count": 8,
     "metadata": {},
     "output_type": "execute_result"
    }
   ],
   "source": [
    "qs = Post.objects.all().order_by('-id')[:2]\n",
    "print(qs.query)\n",
    "qs"
   ]
  },
  {
   "cell_type": "code",
   "execution_count": 11,
   "id": "d05d7dab",
   "metadata": {},
   "outputs": [
    {
     "name": "stdout",
     "output_type": "stream",
     "text": [
      "세번째 메세지 3 세번째 메세지 2022-04-26 12:12:50.733245+00:00\n",
      "{'_state': <django.db.models.base.ModelState object at 0x000002EDC9E49C40>, 'id': 3, 'message': '세번째 메세지', 'photo': 'instagram/post/2022/0428/WI1A7078-편집.jpg', 'is_public': True, 'created_at': datetime.datetime(2022, 4, 26, 12, 12, 50, 733245, tzinfo=datetime.timezone.utc), 'updated_at': datetime.datetime(2022, 4, 28, 7, 34, 14, 110965, tzinfo=datetime.timezone.utc)}\n",
      "두번째 메세지 2 두번째 메세지 2022-04-26 12:12:45.403372+00:00\n",
      "{'_state': <django.db.models.base.ModelState object at 0x000002EDC9E49A90>, 'id': 2, 'message': '두번째 메세지', 'photo': '', 'is_public': True, 'created_at': datetime.datetime(2022, 4, 26, 12, 12, 45, 403372, tzinfo=datetime.timezone.utc), 'updated_at': datetime.datetime(2022, 4, 26, 12, 56, 22, 68939, tzinfo=datetime.timezone.utc)}\n"
     ]
    }
   ],
   "source": [
    "for post in qs:\n",
    "    print(post, post.id, post.message, post.created_at)\n",
    "    print(post.__dict__)"
   ]
  },
  {
   "cell_type": "code",
   "execution_count": 13,
   "id": "80ed5f03",
   "metadata": {},
   "outputs": [
    {
     "name": "stdout",
     "output_type": "stream",
     "text": [
      "id: 3, messgae: 세번째 메세지 2022-04-26 12:12:50.733245+00:00\n",
      "id: 2, messgae: 두번째 메세지 2022-04-26 12:12:45.403372+00:00\n"
     ]
    }
   ],
   "source": [
    "for post in qs:\n",
    "    print(\"id: {id}, messgae: {message} {created_at}\".format(**post.__dict__))"
   ]
  },
  {
   "cell_type": "code",
   "execution_count": 16,
   "id": "d30de1ae",
   "metadata": {},
   "outputs": [
    {
     "name": "stdout",
     "output_type": "stream",
     "text": [
      "SELECT \"instagram_post\".\"id\", \"instagram_post\".\"message\", \"instagram_post\".\"photo\", \"instagram_post\".\"is_public\", \"instagram_post\".\"created_at\", \"instagram_post\".\"updated_at\" FROM \"instagram_post\" WHERE \"instagram_post\".\"message\" LIKE %메세지% ESCAPE '\\' ORDER BY \"instagram_post\".\"id\" DESC\n"
     ]
    },
    {
     "data": {
      "text/plain": [
       "<QuerySet [<Post: 세번째 메세지>, <Post: 두번째 메세지>, <Post: 첫번째 메세지>]>"
      ]
     },
     "execution_count": 16,
     "metadata": {},
     "output_type": "execute_result"
    }
   ],
   "source": [
    "query = '메세지' #검색어\n",
    "qs = Post.objects.all().\\\n",
    "    filter(message__icontains=query).\\\n",
    "    order_by('-id')\n",
    "# qs = Post.objects.all()\n",
    "# qs = qs.filter(message__icontains=query).\n",
    "# qs = qs.order_by('-id')\n",
    "print(qs.query)\n",
    "qs"
   ]
  },
  {
   "cell_type": "code",
   "execution_count": 20,
   "id": "34617e9f",
   "metadata": {},
   "outputs": [
    {
     "ename": "MultipleObjectsReturned",
     "evalue": "get() returned more than one Post -- it returned 2!",
     "output_type": "error",
     "traceback": [
      "\u001b[1;31m---------------------------------------------------------------------------\u001b[0m",
      "\u001b[1;31mMultipleObjectsReturned\u001b[0m                   Traceback (most recent call last)",
      "\u001b[1;32m~\\AppData\\Local\\Temp/ipykernel_13080/2558347221.py\u001b[0m in \u001b[0;36m<module>\u001b[1;34m\u001b[0m\n\u001b[0;32m      1\u001b[0m \u001b[0mqs\u001b[0m \u001b[1;33m=\u001b[0m \u001b[0mPost\u001b[0m\u001b[1;33m.\u001b[0m\u001b[0mobjects\u001b[0m\u001b[1;33m.\u001b[0m\u001b[0mall\u001b[0m\u001b[1;33m(\u001b[0m\u001b[1;33m)\u001b[0m\u001b[1;33m\u001b[0m\u001b[1;33m\u001b[0m\u001b[0m\n\u001b[1;32m----> 2\u001b[1;33m \u001b[0mqs\u001b[0m\u001b[1;33m.\u001b[0m\u001b[0mget\u001b[0m\u001b[1;33m(\u001b[0m\u001b[0mid__lte\u001b[0m\u001b[1;33m=\u001b[0m\u001b[1;36m2\u001b[0m\u001b[1;33m)\u001b[0m\u001b[1;33m\u001b[0m\u001b[1;33m\u001b[0m\u001b[0m\n\u001b[0m",
      "\u001b[1;32mC:\\ProgramData\\Anaconda3\\lib\\site-packages\\django\\db\\models\\query.py\u001b[0m in \u001b[0;36mget\u001b[1;34m(self, *args, **kwargs)\u001b[0m\n\u001b[0;32m    497\u001b[0m                 \u001b[1;34m\"%s matching query does not exist.\"\u001b[0m \u001b[1;33m%\u001b[0m \u001b[0mself\u001b[0m\u001b[1;33m.\u001b[0m\u001b[0mmodel\u001b[0m\u001b[1;33m.\u001b[0m\u001b[0m_meta\u001b[0m\u001b[1;33m.\u001b[0m\u001b[0mobject_name\u001b[0m\u001b[1;33m\u001b[0m\u001b[1;33m\u001b[0m\u001b[0m\n\u001b[0;32m    498\u001b[0m             )\n\u001b[1;32m--> 499\u001b[1;33m         raise self.model.MultipleObjectsReturned(\n\u001b[0m\u001b[0;32m    500\u001b[0m             \u001b[1;34m\"get() returned more than one %s -- it returned %s!\"\u001b[0m\u001b[1;33m\u001b[0m\u001b[1;33m\u001b[0m\u001b[0m\n\u001b[0;32m    501\u001b[0m             % (\n",
      "\u001b[1;31mMultipleObjectsReturned\u001b[0m: get() returned more than one Post -- it returned 2!"
     ]
    }
   ],
   "source": [
    "qs = Post.objects.all()\n",
    "qs.get(id__lte=2)\n",
    "# less than, less than equal, greater than, graater than equal"
   ]
  },
  {
   "cell_type": "code",
   "execution_count": 29,
   "id": "27d63b79",
   "metadata": {},
   "outputs": [
    {
     "name": "stdout",
     "output_type": "stream",
     "text": [
      "SELECT \"instagram_post\".\"id\", \"instagram_post\".\"message\", \"instagram_post\".\"photo\", \"instagram_post\".\"is_public\", \"instagram_post\".\"created_at\", \"instagram_post\".\"updated_at\" FROM \"instagram_post\" WHERE (\"instagram_post\".\"id\" <= 2 OR \"instagram_post\".\"message\" LIKE %메세지% ESCAPE '\\')\n"
     ]
    }
   ],
   "source": [
    "from django.db.models import Q\n",
    "# qs = Post.objects.all().filter(id__lte=2, message__icontains=query)\n",
    "# qs = Post.objects.all().filter(Q(id__lte=2) & Q(message__icontains=query))\n",
    "# 위에 2가지는 같은뜻\n",
    "qs = Post.objects.all().filter(Q(id__lte=2) | Q(message__icontains=query))\n",
    "# & 대신에 | 사용시 OR 연산 가능\n",
    "print(qs.query)\n"
   ]
  },
  {
   "cell_type": "code",
   "execution_count": 32,
   "id": "a53e1664",
   "metadata": {},
   "outputs": [
    {
     "name": "stdout",
     "output_type": "stream",
     "text": [
      "SELECT \"instagram_post\".\"id\", \"instagram_post\".\"message\", \"instagram_post\".\"photo\", \"instagram_post\".\"is_public\", \"instagram_post\".\"created_at\", \"instagram_post\".\"updated_at\" FROM \"instagram_post\" WHERE (\"instagram_post\".\"id\" <= 2 OR \"instagram_post\".\"message\" LIKE %메세지% ESCAPE '\\')\n"
     ]
    }
   ],
   "source": [
    "from django.db.models import Q\n",
    "qs = Post.objects.all()\n",
    "cond = Q(id__lte=2) | Q(message__icontains=query)\n",
    "qs = qs.filter(cond)\n",
    "print(qs.query)\n"
   ]
  }
 ],
 "metadata": {
  "kernelspec": {
   "display_name": "Python 3 (ipykernel)",
   "language": "python",
   "name": "python3"
  },
  "language_info": {
   "codemirror_mode": {
    "name": "ipython",
    "version": 3
   },
   "file_extension": ".py",
   "mimetype": "text/x-python",
   "name": "python",
   "nbconvert_exporter": "python",
   "pygments_lexer": "ipython3",
   "version": "3.8.13"
  }
 },
 "nbformat": 4,
 "nbformat_minor": 5
}
