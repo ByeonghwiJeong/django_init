{
 "cells": [
  {
   "cell_type": "code",
   "execution_count": 1,
   "id": "dc8062ab",
   "metadata": {},
   "outputs": [],
   "source": [
    "import os\n",
    "os.environ\n",
    "os.environ['DJANGO_SETTINGS_MODULE'] = 'askcompany.settings'\n",
    "os.environ['DJANGO_SETTINGS_MODULE']\n",
    "os.environ['DJANGO_ALLOW_ASYNC_UNSAFE'] = 'true'\n",
    "import django\n",
    "django.setup()"
   ]
  },
  {
   "cell_type": "code",
   "execution_count": 2,
   "id": "03b53435",
   "metadata": {},
   "outputs": [],
   "source": [
    "from accounts.models import Profile"
   ]
  },
  {
   "cell_type": "code",
   "execution_count": 6,
   "id": "0f920a9f",
   "metadata": {},
   "outputs": [
    {
     "data": {
      "text/plain": [
       "<User: byeonghwi>"
      ]
     },
     "execution_count": 6,
     "metadata": {},
     "output_type": "execute_result"
    }
   ],
   "source": [
    "profile = Profile.objects.first()\n",
    "profile.user"
   ]
  },
  {
   "cell_type": "code",
   "execution_count": 9,
   "id": "694d7580",
   "metadata": {},
   "outputs": [
    {
     "data": {
      "text/plain": [
       "<QuerySet [<User: byeonghwi>]>"
      ]
     },
     "execution_count": 9,
     "metadata": {},
     "output_type": "execute_result"
    }
   ],
   "source": [
    "# from django.contrib.auth.models import User\n",
    "# 권장 XX\n",
    "from django.contrib.auth import get_user_model\n",
    "User = get_user_model()\n",
    "User.objects.all()"
   ]
  },
  {
   "cell_type": "code",
   "execution_count": 11,
   "id": "9d7bcfb3",
   "metadata": {},
   "outputs": [
    {
     "data": {
      "text/plain": [
       "<Profile: Profile object (1)>"
      ]
     },
     "execution_count": 11,
     "metadata": {},
     "output_type": "execute_result"
    }
   ],
   "source": [
    "user = User.objects.first()\n",
    "user.profile\n",
    "#Profile.objects.get(user=uesr)"
   ]
  },
  {
   "cell_type": "code",
   "execution_count": null,
   "id": "861fcfd5",
   "metadata": {},
   "outputs": [],
   "source": []
  },
  {
   "cell_type": "code",
   "execution_count": null,
   "id": "da20c79a",
   "metadata": {},
   "outputs": [],
   "source": []
  },
  {
   "cell_type": "code",
   "execution_count": null,
   "id": "01d24041",
   "metadata": {},
   "outputs": [],
   "source": [
    "from instagram.models import Post, Comment"
   ]
  },
  {
   "cell_type": "code",
   "execution_count": null,
   "id": "0d9b0208",
   "metadata": {},
   "outputs": [],
   "source": [
    "Post.objects.all()"
   ]
  },
  {
   "cell_type": "code",
   "execution_count": null,
   "id": "a45d481e",
   "metadata": {},
   "outputs": [],
   "source": [
    "Comment.objects.all()"
   ]
  },
  {
   "cell_type": "code",
   "execution_count": null,
   "id": "b6c3f71a",
   "metadata": {},
   "outputs": [],
   "source": [
    "comment = Comment.objects.all().first()\n",
    "comment.post\n",
    "#Post.objects.get(pk=comment.post_id)"
   ]
  },
  {
   "cell_type": "code",
   "execution_count": null,
   "id": "fbde4c6d",
   "metadata": {},
   "outputs": [],
   "source": [
    "post = Post.objects.first()\n",
    "post"
   ]
  },
  {
   "cell_type": "code",
   "execution_count": null,
   "id": "80617a87",
   "metadata": {},
   "outputs": [],
   "source": [
    "Comment.objects.filter(post_id=4)\n",
    "# [필드]post_id의 값이 4인것!!!\n",
    "Comment.objects.filter(post__id=4)\n",
    "# [관계]실제 Post측에 있는 id값\n",
    "Comment.objects.filter(post=post)\n",
    "# 위의 post = Post.objects.first() 를 적용\n",
    "post.comment_set.all()\n",
    "# 4가지전부다 같은 값 출력"
   ]
  }
 ],
 "metadata": {
  "kernelspec": {
   "display_name": "Python 3 (ipykernel)",
   "language": "python",
   "name": "python3"
  },
  "language_info": {
   "codemirror_mode": {
    "name": "ipython",
    "version": 3
   },
   "file_extension": ".py",
   "mimetype": "text/x-python",
   "name": "python",
   "nbconvert_exporter": "python",
   "pygments_lexer": "ipython3",
   "version": "3.8.13"
  }
 },
 "nbformat": 4,
 "nbformat_minor": 5
}
